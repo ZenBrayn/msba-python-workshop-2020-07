{
 "cells": [
  {
   "cell_type": "markdown",
   "metadata": {},
   "source": [
    "# A Brief Introduction to Pandas -- Exercises"
   ]
  },
  {
   "cell_type": "markdown",
   "metadata": {},
   "source": [
    "## Goal\n",
    "\n",
    "Practice `pandas` basics and working with `DataFrames`"
   ]
  },
  {
   "cell_type": "markdown",
   "metadata": {},
   "source": [
    "## Exercises"
   ]
  },
  {
   "cell_type": "markdown",
   "metadata": {},
   "source": [
    "### 1. How do you import the `pandas` package (use community standards)?"
   ]
  },
  {
   "cell_type": "code",
   "execution_count": 1,
   "metadata": {},
   "outputs": [],
   "source": [
    "import pandas as pd"
   ]
  },
  {
   "cell_type": "markdown",
   "metadata": {},
   "source": [
    "### 2. One way to make a `DataFrame` is to create one from a Python dictionary.  Create a dictionary that mirrors the table below, and use this to create a `pandas` `DataFrame`.\n",
    "\n",
    "| last_name  | first_name | age | major       | graduation_year |\n",
    "| ---        | ---        | --- | ---         | ---             |\n",
    "| Snow       | John       | 23  | English     | 2025            |\n",
    "| Targaryen  | Daenerys   | 23  | Mathematics | 2024            |\n",
    "| Lannister  | Tyrion     | 39  | Economics   | 2024            |\n",
    "| Stark      | Arya       | 18  | History     | 2023            |"
   ]
  },
  {
   "cell_type": "code",
   "execution_count": 2,
   "metadata": {},
   "outputs": [
    {
     "data": {
      "text/html": [
       "<div>\n",
       "<style scoped>\n",
       "    .dataframe tbody tr th:only-of-type {\n",
       "        vertical-align: middle;\n",
       "    }\n",
       "\n",
       "    .dataframe tbody tr th {\n",
       "        vertical-align: top;\n",
       "    }\n",
       "\n",
       "    .dataframe thead th {\n",
       "        text-align: right;\n",
       "    }\n",
       "</style>\n",
       "<table border=\"1\" class=\"dataframe\">\n",
       "  <thead>\n",
       "    <tr style=\"text-align: right;\">\n",
       "      <th></th>\n",
       "      <th>last_name</th>\n",
       "      <th>first_name</th>\n",
       "      <th>age</th>\n",
       "      <th>major</th>\n",
       "      <th>graduation_year</th>\n",
       "    </tr>\n",
       "  </thead>\n",
       "  <tbody>\n",
       "    <tr>\n",
       "      <th>0</th>\n",
       "      <td>Snow</td>\n",
       "      <td>John</td>\n",
       "      <td>23</td>\n",
       "      <td>English</td>\n",
       "      <td>2025</td>\n",
       "    </tr>\n",
       "    <tr>\n",
       "      <th>1</th>\n",
       "      <td>Targaryen</td>\n",
       "      <td>Daenerys</td>\n",
       "      <td>23</td>\n",
       "      <td>Mathematics</td>\n",
       "      <td>2024</td>\n",
       "    </tr>\n",
       "    <tr>\n",
       "      <th>2</th>\n",
       "      <td>Lannister</td>\n",
       "      <td>Tyrion</td>\n",
       "      <td>39</td>\n",
       "      <td>Economics</td>\n",
       "      <td>2024</td>\n",
       "    </tr>\n",
       "    <tr>\n",
       "      <th>3</th>\n",
       "      <td>Stark</td>\n",
       "      <td>Arya</td>\n",
       "      <td>18</td>\n",
       "      <td>History</td>\n",
       "      <td>2023</td>\n",
       "    </tr>\n",
       "  </tbody>\n",
       "</table>\n",
       "</div>"
      ],
      "text/plain": [
       "   last_name first_name  age        major  graduation_year\n",
       "0       Snow       John   23      English             2025\n",
       "1  Targaryen   Daenerys   23  Mathematics             2024\n",
       "2  Lannister     Tyrion   39    Economics             2024\n",
       "3      Stark       Arya   18      History             2023"
      ]
     },
     "execution_count": 2,
     "metadata": {},
     "output_type": "execute_result"
    }
   ],
   "source": [
    "myDict = {\"last_name\": [\"Snow\", \"Targaryen\", \"Lannister\", \"Stark\"], \\\n",
    "          \"first_name\": [\"John\", \"Daenerys\", \"Tyrion\", \"Arya\"], \\\n",
    "          \"age\": [23, 23, 39, 18], \\\n",
    "          \"major\": [\"English\", \"Mathematics\", \"Economics\", \"History\"], \\\n",
    "          \"graduation_year\": [2025, 2024, 2024, 2023]}\n",
    "\n",
    "myDF = pd.DataFrame(myDict)\n",
    "myDF"
   ]
  },
  {
   "cell_type": "markdown",
   "metadata": {},
   "source": [
    "### 3. What are the `pandas` functions to get basic information about the `DataFrame` above?\n",
    "- Number of rows and columns (single command)\n",
    "- Number of rows and columns, individually\n",
    "- The names of the columns\n",
    "- The data types for each of the columns\n",
    "- Overall summary of the `DataFrame` (using one command)"
   ]
  },
  {
   "cell_type": "code",
   "execution_count": 3,
   "metadata": {},
   "outputs": [
    {
     "name": "stdout",
     "output_type": "stream",
     "text": [
      "<class 'pandas.core.frame.DataFrame'>\n",
      "RangeIndex: 4 entries, 0 to 3\n",
      "Data columns (total 5 columns):\n",
      "last_name          4 non-null object\n",
      "first_name         4 non-null object\n",
      "age                4 non-null int64\n",
      "major              4 non-null object\n",
      "graduation_year    4 non-null int64\n",
      "dtypes: int64(2), object(3)\n",
      "memory usage: 240.0+ bytes\n"
     ]
    }
   ],
   "source": [
    "# shape gives both the rows and columns as a tuple\n",
    "myDF.shape\n",
    "\n",
    "# You can get rows and columns individually in several ways\n",
    "[rows, cols] = myDF.shape\n",
    "rows_again = myDF.shape[0]\n",
    "cols_again = myDF.shape[1]\n",
    "\n",
    "# Column names\n",
    "myDF.columns\n",
    "list(myDF.columns)\n",
    "\n",
    "# Data types of the columns\n",
    "myDF.dtypes\n",
    "\n",
    "# Overall summary\n",
    "myDF.info()"
   ]
  },
  {
   "cell_type": "markdown",
   "metadata": {},
   "source": [
    "### 4. Compute the sum of the `age` column using `pandas` operations on the `DataFrame` (don't calculate directly)"
   ]
  },
  {
   "cell_type": "code",
   "execution_count": 4,
   "metadata": {},
   "outputs": [
    {
     "data": {
      "text/plain": [
       "103"
      ]
     },
     "execution_count": 4,
     "metadata": {},
     "output_type": "execute_result"
    }
   ],
   "source": [
    "# First index the column by name, then compute the sum\n",
    "myDF[\"age\"].sum()"
   ]
  },
  {
   "cell_type": "markdown",
   "metadata": {},
   "source": [
    "### 5. Find the (direct) link to a .csv file online and use `pandas` to read this data into Python\n",
    "\n",
    "Try Google searching for a topic that might have open data on the web (e.g. weather)\n",
    "\n",
    "If you're really stuck try looking around here:\n",
    "https://earthquake.usgs.gov/earthquakes/feed/v1.0/csv.php"
   ]
  },
  {
   "cell_type": "code",
   "execution_count": 5,
   "metadata": {},
   "outputs": [
    {
     "data": {
      "text/html": [
       "<div>\n",
       "<style scoped>\n",
       "    .dataframe tbody tr th:only-of-type {\n",
       "        vertical-align: middle;\n",
       "    }\n",
       "\n",
       "    .dataframe tbody tr th {\n",
       "        vertical-align: top;\n",
       "    }\n",
       "\n",
       "    .dataframe thead th {\n",
       "        text-align: right;\n",
       "    }\n",
       "</style>\n",
       "<table border=\"1\" class=\"dataframe\">\n",
       "  <thead>\n",
       "    <tr style=\"text-align: right;\">\n",
       "      <th></th>\n",
       "      <th>time</th>\n",
       "      <th>latitude</th>\n",
       "      <th>longitude</th>\n",
       "      <th>depth</th>\n",
       "      <th>mag</th>\n",
       "      <th>magType</th>\n",
       "      <th>nst</th>\n",
       "      <th>gap</th>\n",
       "      <th>dmin</th>\n",
       "      <th>rms</th>\n",
       "      <th>...</th>\n",
       "      <th>updated</th>\n",
       "      <th>place</th>\n",
       "      <th>type</th>\n",
       "      <th>horizontalError</th>\n",
       "      <th>depthError</th>\n",
       "      <th>magError</th>\n",
       "      <th>magNst</th>\n",
       "      <th>status</th>\n",
       "      <th>locationSource</th>\n",
       "      <th>magSource</th>\n",
       "    </tr>\n",
       "  </thead>\n",
       "  <tbody>\n",
       "    <tr>\n",
       "      <th>0</th>\n",
       "      <td>2020-07-28T04:07:10.984Z</td>\n",
       "      <td>62.881600</td>\n",
       "      <td>-148.177800</td>\n",
       "      <td>61.500000</td>\n",
       "      <td>1.0</td>\n",
       "      <td>ml</td>\n",
       "      <td>NaN</td>\n",
       "      <td>NaN</td>\n",
       "      <td>NaN</td>\n",
       "      <td>0.750000</td>\n",
       "      <td>...</td>\n",
       "      <td>2020-07-28T04:12:40.122Z</td>\n",
       "      <td>68 km SE of Cantwell, Alaska</td>\n",
       "      <td>earthquake</td>\n",
       "      <td>NaN</td>\n",
       "      <td>1.000000</td>\n",
       "      <td>NaN</td>\n",
       "      <td>NaN</td>\n",
       "      <td>automatic</td>\n",
       "      <td>ak</td>\n",
       "      <td>ak</td>\n",
       "    </tr>\n",
       "    <tr>\n",
       "      <th>1</th>\n",
       "      <td>2020-07-28T04:00:17.743Z</td>\n",
       "      <td>61.382500</td>\n",
       "      <td>-151.320700</td>\n",
       "      <td>75.000000</td>\n",
       "      <td>1.9</td>\n",
       "      <td>ml</td>\n",
       "      <td>NaN</td>\n",
       "      <td>NaN</td>\n",
       "      <td>NaN</td>\n",
       "      <td>0.450000</td>\n",
       "      <td>...</td>\n",
       "      <td>2020-07-28T04:08:58.903Z</td>\n",
       "      <td>29 km NNW of Beluga, Alaska</td>\n",
       "      <td>earthquake</td>\n",
       "      <td>NaN</td>\n",
       "      <td>0.500000</td>\n",
       "      <td>NaN</td>\n",
       "      <td>NaN</td>\n",
       "      <td>automatic</td>\n",
       "      <td>ak</td>\n",
       "      <td>ak</td>\n",
       "    </tr>\n",
       "    <tr>\n",
       "      <th>2</th>\n",
       "      <td>2020-07-28T03:50:42.508Z</td>\n",
       "      <td>59.960300</td>\n",
       "      <td>-147.864200</td>\n",
       "      <td>26.400000</td>\n",
       "      <td>1.8</td>\n",
       "      <td>ml</td>\n",
       "      <td>NaN</td>\n",
       "      <td>NaN</td>\n",
       "      <td>NaN</td>\n",
       "      <td>0.910000</td>\n",
       "      <td>...</td>\n",
       "      <td>2020-07-28T03:59:36.127Z</td>\n",
       "      <td>14 km SE of Chenega, Alaska</td>\n",
       "      <td>earthquake</td>\n",
       "      <td>NaN</td>\n",
       "      <td>0.300000</td>\n",
       "      <td>NaN</td>\n",
       "      <td>NaN</td>\n",
       "      <td>automatic</td>\n",
       "      <td>ak</td>\n",
       "      <td>ak</td>\n",
       "    </tr>\n",
       "    <tr>\n",
       "      <th>3</th>\n",
       "      <td>2020-07-28T03:48:59.359Z</td>\n",
       "      <td>36.296898</td>\n",
       "      <td>-98.183731</td>\n",
       "      <td>6.240216</td>\n",
       "      <td>1.5</td>\n",
       "      <td>ml</td>\n",
       "      <td>20.0</td>\n",
       "      <td>90.949974</td>\n",
       "      <td>0.262981</td>\n",
       "      <td>0.628814</td>\n",
       "      <td>...</td>\n",
       "      <td>2020-07-28T03:51:31.215Z</td>\n",
       "      <td>5 km N of Ames, Oklahoma</td>\n",
       "      <td>earthquake</td>\n",
       "      <td>3.154718</td>\n",
       "      <td>4.113808</td>\n",
       "      <td>NaN</td>\n",
       "      <td>15.0</td>\n",
       "      <td>automatic</td>\n",
       "      <td>ok</td>\n",
       "      <td>ok</td>\n",
       "    </tr>\n",
       "  </tbody>\n",
       "</table>\n",
       "<p>4 rows × 22 columns</p>\n",
       "</div>"
      ],
      "text/plain": [
       "                       time   latitude   longitude      depth  mag magType  \\\n",
       "0  2020-07-28T04:07:10.984Z  62.881600 -148.177800  61.500000  1.0      ml   \n",
       "1  2020-07-28T04:00:17.743Z  61.382500 -151.320700  75.000000  1.9      ml   \n",
       "2  2020-07-28T03:50:42.508Z  59.960300 -147.864200  26.400000  1.8      ml   \n",
       "3  2020-07-28T03:48:59.359Z  36.296898  -98.183731   6.240216  1.5      ml   \n",
       "\n",
       "    nst        gap      dmin       rms  ...                   updated  \\\n",
       "0   NaN        NaN       NaN  0.750000  ...  2020-07-28T04:12:40.122Z   \n",
       "1   NaN        NaN       NaN  0.450000  ...  2020-07-28T04:08:58.903Z   \n",
       "2   NaN        NaN       NaN  0.910000  ...  2020-07-28T03:59:36.127Z   \n",
       "3  20.0  90.949974  0.262981  0.628814  ...  2020-07-28T03:51:31.215Z   \n",
       "\n",
       "                          place        type horizontalError depthError  \\\n",
       "0  68 km SE of Cantwell, Alaska  earthquake             NaN   1.000000   \n",
       "1   29 km NNW of Beluga, Alaska  earthquake             NaN   0.500000   \n",
       "2   14 km SE of Chenega, Alaska  earthquake             NaN   0.300000   \n",
       "3      5 km N of Ames, Oklahoma  earthquake        3.154718   4.113808   \n",
       "\n",
       "   magError  magNst     status  locationSource magSource  \n",
       "0       NaN     NaN  automatic              ak        ak  \n",
       "1       NaN     NaN  automatic              ak        ak  \n",
       "2       NaN     NaN  automatic              ak        ak  \n",
       "3       NaN    15.0  automatic              ok        ok  \n",
       "\n",
       "[4 rows x 22 columns]"
      ]
     },
     "execution_count": 5,
     "metadata": {},
     "output_type": "execute_result"
    }
   ],
   "source": [
    "csv_url = \"https://earthquake.usgs.gov/earthquakes/feed/v1.0/summary/1.0_hour.csv\"\n",
    "myDat = pd.read_csv(csv_url)\n",
    "myDat"
   ]
  }
 ],
 "metadata": {
  "kernelspec": {
   "display_name": "Python 3",
   "language": "python",
   "name": "python3"
  },
  "language_info": {
   "codemirror_mode": {
    "name": "ipython",
    "version": 3
   },
   "file_extension": ".py",
   "mimetype": "text/x-python",
   "name": "python",
   "nbconvert_exporter": "python",
   "pygments_lexer": "ipython3",
   "version": "3.6.10"
  }
 },
 "nbformat": 4,
 "nbformat_minor": 4
}
